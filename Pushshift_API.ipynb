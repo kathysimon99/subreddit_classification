{
 "cells": [
  {
   "cell_type": "code",
   "execution_count": 23,
   "id": "08d565c5-6f31-4cd5-a9cd-d05b266ebb6e",
   "metadata": {},
   "outputs": [],
   "source": [
    "import requests\n",
    "import pandas as pd\n",
    "import time\n",
    "import datetime as dt"
   ]
  },
  {
   "cell_type": "code",
   "execution_count": 15,
   "id": "302e74fb-3413-4893-b2c9-c7a1213a83f5",
   "metadata": {},
   "outputs": [],
   "source": [
    "comments_list = []\n",
    "for num in range(10):\n",
    "    params  = {\n",
    "        'subreddit': 'todayilearned',\n",
    "        'size'     : 100,\n",
    "        'before'   : last_comment_time\n",
    "}\n",
    "    res = requests.get(url, params)\n",
    "    if res.status_code == 200:\n",
    "        data = res.json()\n",
    "        comments = data['data']\n",
    "        last_comment_time = comments[len(comments) - 1]['created_utc']\n",
    "        for element in range(len(comments)):\n",
    "            dict = {}\n",
    "            dict = {'subreddit': comments[element]['subreddit'],\n",
    "                            'body'     : comments[element]['body'],\n",
    "                            'created_utc': comments[element]['created_utc']}\n",
    "            comments_list.append(dict)\n",
    "    \n",
    "        "
   ]
  },
  {
   "cell_type": "code",
   "execution_count": 96,
   "id": "2a6515fd-e81a-4f5d-a390-f4a7db467254",
   "metadata": {},
   "outputs": [
    {
     "name": "stdout",
     "output_type": "stream",
     "text": [
      "CPU times: user 4 µs, sys: 6 µs, total: 10 µs\n",
      "Wall time: 11.9 µs\n"
     ]
    }
   ],
   "source": [
    "%time\n",
    "def pushfit(subreddit, kind = 'comment', date = '1635356081', iters = 10, og_csv = , first = False): #change iters to 1000 to run overnight\n",
    "\n",
    "        \n",
    "    for scrap in range(1, iters + 1):\n",
    "        if not first:\n",
    "            date = pd.read_csv(og_csv)['created_utc'].min()\n",
    "            \n",
    "        stem = 'https://api.pushshift.io'\n",
    "        slug = f'/reddit/search/{kind}/?subreddit={subreddit}&before={date}&size=100&selftext=true'\n",
    "        \n",
    "        res = requests.get(stem + slug)\n",
    "        if res.status_code != 200:\n",
    "            print(f'url: {stem + slug} returned {res.status_code}')\n",
    "        else: \n",
    "            data = res.json()\n",
    "            comments = data['data']\n",
    "            comments_list = []\n",
    "            for element in range(len(comments)):\n",
    "                comments_dict = {\n",
    "                    'subreddit'  : comments[element]['subreddit'],\n",
    "                    'body'       : comments[element]['body'],\n",
    "                    'author'     : comments[element]['author'],\n",
    "                    'created_utc': comments[element]['created_utc']\n",
    "                }\n",
    "                comments_list.append(comments_dict)\n",
    "                \n",
    "            if first:\n",
    "                pd.DataFrame(comments_list).to_csv(og_csv, index = False)\n",
    "                first = False\n",
    "\n",
    "            else: \n",
    "                og_df = pd.read_csv(og_csv)\n",
    "                temp_df = pd.DataFrame(comments_list)\n",
    "            \n",
    "                new_df = pd.concat([og_df, temp_df])\n",
    "        \n",
    "                new_df.to_csv(og_csv, index = False)\n",
    "            \n",
    "                print(f'Scrape success for {subreddit}')\n",
    "                print(f'Orginial data was {og_df.shape[0]} rows')\n",
    "                print(f'New dataset is {new_df.shape[0]} rows!')\n",
    "        \n",
    "              \n",
    "            time.sleep(2)"
   ]
  },
  {
   "cell_type": "code",
   "execution_count": 124,
   "id": "8fcba00b-8e45-406a-8b8d-6c02b84b1423",
   "metadata": {
    "tags": []
   },
   "outputs": [],
   "source": [
    "# for subred in [('todayilearned','./data/til.csv', 1_000)]:\n",
    "#     pushfit(subreddit = subred[0], og_csv = subred[1], iters = subred[2])\n",
    "    \n",
    "# askscience_df = pd.read_csv('./data/askscience.csv')\n",
    "# un_asksc = len(pd.unique(askscience_df['body']))\n",
    "# print('---')\n",
    "# print(f'askescience unique rows {un_asksc}')\n",
    "\n",
    "# til_df = pd.read_csv('./data/til.csv')\n",
    "# un_til = len(pd.unique(til_df['body']))\n",
    "# print('---')\n",
    "# print(f'todayilearned unique rows {un_til}')\n"
   ]
  },
  {
   "cell_type": "code",
   "execution_count": 107,
   "id": "8390f05a-6ed2-45cb-b427-7fc1a5d7cbd9",
   "metadata": {
    "tags": []
   },
   "outputs": [
    {
     "data": {
      "text/html": [
       "<div>\n",
       "<style scoped>\n",
       "    .dataframe tbody tr th:only-of-type {\n",
       "        vertical-align: middle;\n",
       "    }\n",
       "\n",
       "    .dataframe tbody tr th {\n",
       "        vertical-align: top;\n",
       "    }\n",
       "\n",
       "    .dataframe thead th {\n",
       "        text-align: right;\n",
       "    }\n",
       "</style>\n",
       "<table border=\"1\" class=\"dataframe\">\n",
       "  <thead>\n",
       "    <tr style=\"text-align: right;\">\n",
       "      <th></th>\n",
       "      <th>subreddit</th>\n",
       "      <th>body</th>\n",
       "      <th>author</th>\n",
       "      <th>created_utc</th>\n",
       "    </tr>\n",
       "  </thead>\n",
       "  <tbody>\n",
       "    <tr>\n",
       "      <th>6</th>\n",
       "      <td>askscience</td>\n",
       "      <td>[removed]</td>\n",
       "      <td>[deleted]</td>\n",
       "      <td>1635355281</td>\n",
       "    </tr>\n",
       "    <tr>\n",
       "      <th>7</th>\n",
       "      <td>askscience</td>\n",
       "      <td>[removed]</td>\n",
       "      <td>[deleted]</td>\n",
       "      <td>1635355219</td>\n",
       "    </tr>\n",
       "    <tr>\n",
       "      <th>11</th>\n",
       "      <td>askscience</td>\n",
       "      <td>[removed]</td>\n",
       "      <td>[deleted]</td>\n",
       "      <td>1635355124</td>\n",
       "    </tr>\n",
       "    <tr>\n",
       "      <th>13</th>\n",
       "      <td>askscience</td>\n",
       "      <td>[removed]</td>\n",
       "      <td>[deleted]</td>\n",
       "      <td>1635355060</td>\n",
       "    </tr>\n",
       "    <tr>\n",
       "      <th>23</th>\n",
       "      <td>askscience</td>\n",
       "      <td>[removed]</td>\n",
       "      <td>[deleted]</td>\n",
       "      <td>1635354608</td>\n",
       "    </tr>\n",
       "    <tr>\n",
       "      <th>...</th>\n",
       "      <td>...</td>\n",
       "      <td>...</td>\n",
       "      <td>...</td>\n",
       "      <td>...</td>\n",
       "    </tr>\n",
       "    <tr>\n",
       "      <th>1993</th>\n",
       "      <td>askscience</td>\n",
       "      <td>[removed]</td>\n",
       "      <td>[deleted]</td>\n",
       "      <td>1635140459</td>\n",
       "    </tr>\n",
       "    <tr>\n",
       "      <th>1994</th>\n",
       "      <td>askscience</td>\n",
       "      <td>[removed]</td>\n",
       "      <td>[deleted]</td>\n",
       "      <td>1635140362</td>\n",
       "    </tr>\n",
       "    <tr>\n",
       "      <th>1997</th>\n",
       "      <td>askscience</td>\n",
       "      <td>[removed]</td>\n",
       "      <td>[deleted]</td>\n",
       "      <td>1635140199</td>\n",
       "    </tr>\n",
       "    <tr>\n",
       "      <th>1998</th>\n",
       "      <td>askscience</td>\n",
       "      <td>[removed]</td>\n",
       "      <td>[deleted]</td>\n",
       "      <td>1635140172</td>\n",
       "    </tr>\n",
       "    <tr>\n",
       "      <th>1999</th>\n",
       "      <td>askscience</td>\n",
       "      <td>[removed]</td>\n",
       "      <td>[deleted]</td>\n",
       "      <td>1635139569</td>\n",
       "    </tr>\n",
       "  </tbody>\n",
       "</table>\n",
       "<p>821 rows × 4 columns</p>\n",
       "</div>"
      ],
      "text/plain": [
       "       subreddit       body     author  created_utc\n",
       "6     askscience  [removed]  [deleted]   1635355281\n",
       "7     askscience  [removed]  [deleted]   1635355219\n",
       "11    askscience  [removed]  [deleted]   1635355124\n",
       "13    askscience  [removed]  [deleted]   1635355060\n",
       "23    askscience  [removed]  [deleted]   1635354608\n",
       "...          ...        ...        ...          ...\n",
       "1993  askscience  [removed]  [deleted]   1635140459\n",
       "1994  askscience  [removed]  [deleted]   1635140362\n",
       "1997  askscience  [removed]  [deleted]   1635140199\n",
       "1998  askscience  [removed]  [deleted]   1635140172\n",
       "1999  askscience  [removed]  [deleted]   1635139569\n",
       "\n",
       "[821 rows x 4 columns]"
      ]
     },
     "execution_count": 107,
     "metadata": {},
     "output_type": "execute_result"
    }
   ],
   "source": [
    "askscience_df[askscience_df['body'] == '[removed]']"
   ]
  },
  {
   "cell_type": "code",
   "execution_count": 110,
   "id": "e4771f20-464b-4cbd-a5e8-558ef62188dc",
   "metadata": {},
   "outputs": [
    {
     "name": "stdout",
     "output_type": "stream",
     "text": [
      "Scrape success for askscience\n",
      "Orginial data was 3000 rows\n",
      "New dataset is 3100 rows!\n",
      "Scrape success for askscience\n",
      "Orginial data was 3100 rows\n",
      "New dataset is 3200 rows!\n",
      "Scrape success for askscience\n",
      "Orginial data was 3200 rows\n",
      "New dataset is 3300 rows!\n",
      "Scrape success for askscience\n",
      "Orginial data was 3300 rows\n",
      "New dataset is 3400 rows!\n",
      "Scrape success for askscience\n",
      "Orginial data was 3400 rows\n",
      "New dataset is 3500 rows!\n",
      "Scrape success for askscience\n",
      "Orginial data was 3500 rows\n",
      "New dataset is 3600 rows!\n",
      "Scrape success for askscience\n",
      "Orginial data was 3600 rows\n",
      "New dataset is 3700 rows!\n",
      "Scrape success for askscience\n",
      "Orginial data was 3700 rows\n",
      "New dataset is 3800 rows!\n",
      "Scrape success for askscience\n",
      "Orginial data was 3800 rows\n",
      "New dataset is 3900 rows!\n",
      "Scrape success for askscience\n",
      "Orginial data was 3900 rows\n",
      "New dataset is 4000 rows!\n"
     ]
    }
   ],
   "source": [
    "pushfit(subreddit = 'askscience', og_csv = './data/askscience.csv')"
   ]
  },
  {
   "cell_type": "code",
   "execution_count": 120,
   "id": "edb23b0c-990a-4bbf-b5f3-9b763f57eaef",
   "metadata": {},
   "outputs": [
    {
     "name": "stdout",
     "output_type": "stream",
     "text": [
      "---\n",
      "askescience unique rows 56220\n"
     ]
    }
   ],
   "source": [
    "askscience_df = pd.read_csv('./data/askscience.csv')\n",
    "un_asksc = len(pd.unique(askscience_df['body']))\n",
    "print('---')\n",
    "print(f'askescience unique rows {un_asksc}')"
   ]
  },
  {
   "cell_type": "code",
   "execution_count": 125,
   "id": "383d8ae6-10ec-4fd1-8cf9-43787759ab38",
   "metadata": {},
   "outputs": [
    {
     "data": {
      "text/html": [
       "<div>\n",
       "<style scoped>\n",
       "    .dataframe tbody tr th:only-of-type {\n",
       "        vertical-align: middle;\n",
       "    }\n",
       "\n",
       "    .dataframe tbody tr th {\n",
       "        vertical-align: top;\n",
       "    }\n",
       "\n",
       "    .dataframe thead th {\n",
       "        text-align: right;\n",
       "    }\n",
       "</style>\n",
       "<table border=\"1\" class=\"dataframe\">\n",
       "  <thead>\n",
       "    <tr style=\"text-align: right;\">\n",
       "      <th></th>\n",
       "      <th>subreddit</th>\n",
       "      <th>body</th>\n",
       "      <th>author</th>\n",
       "      <th>created_utc</th>\n",
       "    </tr>\n",
       "  </thead>\n",
       "  <tbody>\n",
       "    <tr>\n",
       "      <th>6</th>\n",
       "      <td>askscience</td>\n",
       "      <td>[removed]</td>\n",
       "      <td>[deleted]</td>\n",
       "      <td>1635355281</td>\n",
       "    </tr>\n",
       "    <tr>\n",
       "      <th>7</th>\n",
       "      <td>askscience</td>\n",
       "      <td>[removed]</td>\n",
       "      <td>[deleted]</td>\n",
       "      <td>1635355219</td>\n",
       "    </tr>\n",
       "    <tr>\n",
       "      <th>11</th>\n",
       "      <td>askscience</td>\n",
       "      <td>[removed]</td>\n",
       "      <td>[deleted]</td>\n",
       "      <td>1635355124</td>\n",
       "    </tr>\n",
       "    <tr>\n",
       "      <th>13</th>\n",
       "      <td>askscience</td>\n",
       "      <td>[removed]</td>\n",
       "      <td>[deleted]</td>\n",
       "      <td>1635355060</td>\n",
       "    </tr>\n",
       "    <tr>\n",
       "      <th>23</th>\n",
       "      <td>askscience</td>\n",
       "      <td>[removed]</td>\n",
       "      <td>[deleted]</td>\n",
       "      <td>1635354608</td>\n",
       "    </tr>\n",
       "    <tr>\n",
       "      <th>...</th>\n",
       "      <td>...</td>\n",
       "      <td>...</td>\n",
       "      <td>...</td>\n",
       "      <td>...</td>\n",
       "    </tr>\n",
       "    <tr>\n",
       "      <th>129979</th>\n",
       "      <td>askscience</td>\n",
       "      <td>[removed]</td>\n",
       "      <td>[deleted]</td>\n",
       "      <td>1623851690</td>\n",
       "    </tr>\n",
       "    <tr>\n",
       "      <th>129981</th>\n",
       "      <td>askscience</td>\n",
       "      <td>[removed]</td>\n",
       "      <td>[deleted]</td>\n",
       "      <td>1623851336</td>\n",
       "    </tr>\n",
       "    <tr>\n",
       "      <th>129983</th>\n",
       "      <td>askscience</td>\n",
       "      <td>[removed]</td>\n",
       "      <td>[deleted]</td>\n",
       "      <td>1623850946</td>\n",
       "    </tr>\n",
       "    <tr>\n",
       "      <th>129985</th>\n",
       "      <td>askscience</td>\n",
       "      <td>[removed]</td>\n",
       "      <td>[deleted]</td>\n",
       "      <td>1623850813</td>\n",
       "    </tr>\n",
       "    <tr>\n",
       "      <th>129988</th>\n",
       "      <td>askscience</td>\n",
       "      <td>[removed]</td>\n",
       "      <td>[deleted]</td>\n",
       "      <td>1623850629</td>\n",
       "    </tr>\n",
       "  </tbody>\n",
       "</table>\n",
       "<p>60427 rows × 4 columns</p>\n",
       "</div>"
      ],
      "text/plain": [
       "         subreddit       body     author  created_utc\n",
       "6       askscience  [removed]  [deleted]   1635355281\n",
       "7       askscience  [removed]  [deleted]   1635355219\n",
       "11      askscience  [removed]  [deleted]   1635355124\n",
       "13      askscience  [removed]  [deleted]   1635355060\n",
       "23      askscience  [removed]  [deleted]   1635354608\n",
       "...            ...        ...        ...          ...\n",
       "129979  askscience  [removed]  [deleted]   1623851690\n",
       "129981  askscience  [removed]  [deleted]   1623851336\n",
       "129983  askscience  [removed]  [deleted]   1623850946\n",
       "129985  askscience  [removed]  [deleted]   1623850813\n",
       "129988  askscience  [removed]  [deleted]   1623850629\n",
       "\n",
       "[60427 rows x 4 columns]"
      ]
     },
     "execution_count": 125,
     "metadata": {},
     "output_type": "execute_result"
    }
   ],
   "source": [
    "askscience_df[askscience_df['body'] == '[removed]']"
   ]
  },
  {
   "cell_type": "code",
   "execution_count": 122,
   "id": "5b09491e-8418-413d-8c7b-faf85deca082",
   "metadata": {},
   "outputs": [
    {
     "name": "stdout",
     "output_type": "stream",
     "text": [
      "---\n",
      "todayilearned unique rows 59011\n"
     ]
    }
   ],
   "source": [
    "til_df = pd.read_csv('./data/til.csv')\n",
    "un_til = len(pd.unique(til_df['body']))\n",
    "print('---')\n",
    "print(f'todayilearned unique rows {un_til}')\n"
   ]
  },
  {
   "cell_type": "code",
   "execution_count": 123,
   "id": "898392c8-badb-426d-8e13-c824ada56457",
   "metadata": {},
   "outputs": [
    {
     "data": {
      "text/plain": [
       "((129989, 4), (62390, 4))"
      ]
     },
     "execution_count": 123,
     "metadata": {},
     "output_type": "execute_result"
    }
   ],
   "source": [
    "askscience_df.shape, til_df.shape"
   ]
  },
  {
   "cell_type": "code",
   "execution_count": null,
   "id": "26a0f22a-56f9-4b17-8107-aef83bb18ee6",
   "metadata": {},
   "outputs": [],
   "source": []
  }
 ],
 "metadata": {
  "kernelspec": {
   "display_name": "Python 3",
   "language": "python",
   "name": "python3"
  },
  "language_info": {
   "codemirror_mode": {
    "name": "ipython",
    "version": 3
   },
   "file_extension": ".py",
   "mimetype": "text/x-python",
   "name": "python",
   "nbconvert_exporter": "python",
   "pygments_lexer": "ipython3",
   "version": "3.8.8"
  }
 },
 "nbformat": 4,
 "nbformat_minor": 5
}
