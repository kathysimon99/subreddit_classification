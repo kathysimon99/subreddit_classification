{
 "cells": [
  {
   "cell_type": "code",
   "execution_count": 1,
   "id": "ae4a9dcc-e790-4d8d-b65b-f1adaa28def6",
   "metadata": {},
   "outputs": [],
   "source": [
    "import pandas as pd\n",
    "import numpy as np\n",
    "import matplotlib.pyplot as plt\n",
    "import seaborn as sns\n",
    "import plotly.express as px\n",
    "\n",
    "import joblib\n",
    "import pickle\n",
    "\n",
    "from sklearn.feature_extraction.text import CountVectorizer\n",
    "from sklearn.feature_extraction import text\n",
    "from sklearn.model_selection import train_test_split, cross_val_score, GridSearchCV, StratifiedKFold\n",
    "from sklearn.pipeline import Pipeline\n",
    "from sklearn.linear_model import LogisticRegression\n",
    "from sklearn.naive_bayes import MultinomialNB\n",
    "from sklearn.ensemble import RandomForestClassifier\n",
    "from sklearn.svm import SVC\n",
    "from sklearn.metrics import confusion_matrix, plot_confusion_matrix, classification_report, f1_score\n",
    "np.random.seed(2011)"
   ]
  },
  {
   "cell_type": "code",
   "execution_count": 2,
   "id": "cbfad1ba-7577-4d57-b406-eab4371139f6",
   "metadata": {
    "tags": []
   },
   "outputs": [
    {
     "data": {
      "text/html": [
       "<div>\n",
       "<style scoped>\n",
       "    .dataframe tbody tr th:only-of-type {\n",
       "        vertical-align: middle;\n",
       "    }\n",
       "\n",
       "    .dataframe tbody tr th {\n",
       "        vertical-align: top;\n",
       "    }\n",
       "\n",
       "    .dataframe thead th {\n",
       "        text-align: right;\n",
       "    }\n",
       "</style>\n",
       "<table border=\"1\" class=\"dataframe\">\n",
       "  <thead>\n",
       "    <tr style=\"text-align: right;\">\n",
       "      <th></th>\n",
       "      <th>subreddit</th>\n",
       "      <th>body</th>\n",
       "      <th>author</th>\n",
       "      <th>created_utc</th>\n",
       "      <th>body_length</th>\n",
       "      <th>body_word_count</th>\n",
       "    </tr>\n",
       "  </thead>\n",
       "  <tbody>\n",
       "    <tr>\n",
       "      <th>0</th>\n",
       "      <td>todayilearned</td>\n",
       "      <td>Ah yes, that's why you guys killed innovent fa...</td>\n",
       "      <td>Pokoirl</td>\n",
       "      <td>1635356074</td>\n",
       "      <td>142</td>\n",
       "      <td>24</td>\n",
       "    </tr>\n",
       "    <tr>\n",
       "      <th>1</th>\n",
       "      <td>todayilearned</td>\n",
       "      <td>Then how does a low carb diet work? Same amoun...</td>\n",
       "      <td>laszlo92</td>\n",
       "      <td>1635356072</td>\n",
       "      <td>82</td>\n",
       "      <td>16</td>\n",
       "    </tr>\n",
       "    <tr>\n",
       "      <th>2</th>\n",
       "      <td>todayilearned</td>\n",
       "      <td>In a fun way, Musk's starship being made of st...</td>\n",
       "      <td>barath_s</td>\n",
       "      <td>1635356072</td>\n",
       "      <td>231</td>\n",
       "      <td>38</td>\n",
       "    </tr>\n",
       "    <tr>\n",
       "      <th>3</th>\n",
       "      <td>todayilearned</td>\n",
       "      <td>North Korea pre 60s was a very different place...</td>\n",
       "      <td>xPyright</td>\n",
       "      <td>1635356061</td>\n",
       "      <td>174</td>\n",
       "      <td>30</td>\n",
       "    </tr>\n",
       "    <tr>\n",
       "      <th>4</th>\n",
       "      <td>todayilearned</td>\n",
       "      <td>Is he making banl on this? He must be paid for...</td>\n",
       "      <td>dirtydownstairs</td>\n",
       "      <td>1635356056</td>\n",
       "      <td>109</td>\n",
       "      <td>22</td>\n",
       "    </tr>\n",
       "  </tbody>\n",
       "</table>\n",
       "</div>"
      ],
      "text/plain": [
       "       subreddit                                               body  \\\n",
       "0  todayilearned  Ah yes, that's why you guys killed innovent fa...   \n",
       "1  todayilearned  Then how does a low carb diet work? Same amoun...   \n",
       "2  todayilearned  In a fun way, Musk's starship being made of st...   \n",
       "3  todayilearned  North Korea pre 60s was a very different place...   \n",
       "4  todayilearned  Is he making banl on this? He must be paid for...   \n",
       "\n",
       "            author  created_utc  body_length  body_word_count  \n",
       "0          Pokoirl   1635356074          142               24  \n",
       "1         laszlo92   1635356072           82               16  \n",
       "2         barath_s   1635356072          231               38  \n",
       "3         xPyright   1635356061          174               30  \n",
       "4  dirtydownstairs   1635356056          109               22  "
      ]
     },
     "execution_count": 2,
     "metadata": {},
     "output_type": "execute_result"
    }
   ],
   "source": [
    "data = pd.read_csv('./data/combined_data.csv')\n",
    "data.head()"
   ]
  },
  {
   "cell_type": "code",
   "execution_count": 3,
   "id": "3cdc4944-31ec-4c9b-8592-d454bc945848",
   "metadata": {},
   "outputs": [
    {
     "data": {
      "text/html": [
       "<div>\n",
       "<style scoped>\n",
       "    .dataframe tbody tr th:only-of-type {\n",
       "        vertical-align: middle;\n",
       "    }\n",
       "\n",
       "    .dataframe tbody tr th {\n",
       "        vertical-align: top;\n",
       "    }\n",
       "\n",
       "    .dataframe thead th {\n",
       "        text-align: right;\n",
       "    }\n",
       "</style>\n",
       "<table border=\"1\" class=\"dataframe\">\n",
       "  <thead>\n",
       "    <tr style=\"text-align: right;\">\n",
       "      <th></th>\n",
       "      <th>subreddit</th>\n",
       "      <th>body</th>\n",
       "      <th>author</th>\n",
       "      <th>created_utc</th>\n",
       "      <th>body_length</th>\n",
       "      <th>body_word_count</th>\n",
       "    </tr>\n",
       "  </thead>\n",
       "  <tbody>\n",
       "    <tr>\n",
       "      <th>115184</th>\n",
       "      <td>askscience</td>\n",
       "      <td>His none Sci-Fi stuff is pretty spectacular as...</td>\n",
       "      <td>adamgeekboy</td>\n",
       "      <td>1623850908</td>\n",
       "      <td>160</td>\n",
       "      <td>28</td>\n",
       "    </tr>\n",
       "    <tr>\n",
       "      <th>115185</th>\n",
       "      <td>askscience</td>\n",
       "      <td>If we’re splitting hairs, I have a Samsung ref...</td>\n",
       "      <td>mykepagan</td>\n",
       "      <td>1623850805</td>\n",
       "      <td>596</td>\n",
       "      <td>104</td>\n",
       "    </tr>\n",
       "    <tr>\n",
       "      <th>115186</th>\n",
       "      <td>askscience</td>\n",
       "      <td>When there’s a density gradient, the water at ...</td>\n",
       "      <td>WelchWoman</td>\n",
       "      <td>1623850696</td>\n",
       "      <td>392</td>\n",
       "      <td>73</td>\n",
       "    </tr>\n",
       "  </tbody>\n",
       "</table>\n",
       "</div>"
      ],
      "text/plain": [
       "         subreddit                                               body  \\\n",
       "115184  askscience  His none Sci-Fi stuff is pretty spectacular as...   \n",
       "115185  askscience  If we’re splitting hairs, I have a Samsung ref...   \n",
       "115186  askscience  When there’s a density gradient, the water at ...   \n",
       "\n",
       "             author  created_utc  body_length  body_word_count  \n",
       "115184  adamgeekboy   1623850908          160               28  \n",
       "115185    mykepagan   1623850805          596              104  \n",
       "115186   WelchWoman   1623850696          392               73  "
      ]
     },
     "execution_count": 3,
     "metadata": {},
     "output_type": "execute_result"
    }
   ],
   "source": [
    "data.tail(3)"
   ]
  },
  {
   "cell_type": "code",
   "execution_count": 4,
   "id": "c416fa5f-793a-4b99-aafe-82b430df6c0c",
   "metadata": {},
   "outputs": [
    {
     "data": {
      "text/plain": [
       "subreddit          0\n",
       "body               0\n",
       "author             0\n",
       "created_utc        0\n",
       "body_length        0\n",
       "body_word_count    0\n",
       "dtype: int64"
      ]
     },
     "execution_count": 4,
     "metadata": {},
     "output_type": "execute_result"
    }
   ],
   "source": [
    "data.isna().sum()"
   ]
  },
  {
   "cell_type": "code",
   "execution_count": 5,
   "id": "518bcc98-022c-430b-9e6f-e3528a13fdb2",
   "metadata": {},
   "outputs": [
    {
     "data": {
      "text/plain": [
       "(115187, 6)"
      ]
     },
     "execution_count": 5,
     "metadata": {},
     "output_type": "execute_result"
    }
   ],
   "source": [
    "data.shape"
   ]
  },
  {
   "cell_type": "code",
   "execution_count": 6,
   "id": "beba73ff-2b0a-4036-be8b-1550b80d7603",
   "metadata": {},
   "outputs": [],
   "source": [
    "X = data['body']\n",
    "y = data['subreddit']"
   ]
  },
  {
   "cell_type": "code",
   "execution_count": 7,
   "id": "a7baa5a5-d535-4861-9b9f-8575c1cdee11",
   "metadata": {},
   "outputs": [
    {
     "data": {
      "text/plain": [
       "todayilearned    0.511933\n",
       "askscience       0.488067\n",
       "Name: subreddit, dtype: float64"
      ]
     },
     "execution_count": 7,
     "metadata": {},
     "output_type": "execute_result"
    }
   ],
   "source": [
    "# Check baseline model\n",
    "y.value_counts(normalize = True)"
   ]
  },
  {
   "cell_type": "code",
   "execution_count": 8,
   "id": "aef9c00c-f085-45c1-bc17-2bbb74fc861f",
   "metadata": {},
   "outputs": [],
   "source": [
    "# train, test, split\n",
    "X_train, X_test, y_train, y_test = train_test_split(X, y, random_state = 2011)"
   ]
  },
  {
   "cell_type": "markdown",
   "id": "e2d698bb-e50f-4f45-8092-208704354a11",
   "metadata": {},
   "source": [
    "## Logistic Regression Modeling\n",
    "* best model with cvec n_features 3000, stop words top 50\n",
    "*logreg max iters = 10_000"
   ]
  },
  {
   "cell_type": "code",
   "execution_count": 9,
   "id": "33fd591c-ce78-4239-a061-84601ff2a6dd",
   "metadata": {
    "tags": []
   },
   "outputs": [
    {
     "data": {
      "text/plain": [
       "['just',\n",
       " 'like',\n",
       " 'people',\n",
       " 'don',\n",
       " 'think',\n",
       " 'time',\n",
       " 'know',\n",
       " 'gt',\n",
       " 'did',\n",
       " 'really',\n",
       " 'https',\n",
       " 'good',\n",
       " 'way',\n",
       " 'make',\n",
       " 've',\n",
       " 'years',\n",
       " 'actually',\n",
       " 'thing',\n",
       " 'say',\n",
       " 'right',\n",
       " 'doesn',\n",
       " 'lot',\n",
       " 'work',\n",
       " 'going',\n",
       " 'sure',\n",
       " 'want',\n",
       " 'need',\n",
       " 'point',\n",
       " 'things',\n",
       " 'pretty',\n",
       " 'better',\n",
       " 'does',\n",
       " 'life',\n",
       " 'mean',\n",
       " 'isn',\n",
       " 'com',\n",
       " 'probably',\n",
       " 'use',\n",
       " 'used',\n",
       " 'yes',\n",
       " 'll',\n",
       " 'long',\n",
       " 'www',\n",
       " 'different',\n",
       " 'makes',\n",
       " 'look',\n",
       " 'new',\n",
       " 'reason',\n",
       " 'amp',\n",
       " '10']"
      ]
     },
     "execution_count": 9,
     "metadata": {},
     "output_type": "execute_result"
    }
   ],
   "source": [
    "new_stopwords = joblib.load('./data/add_stopwords.sav')\n",
    "new_stopwords"
   ]
  },
  {
   "cell_type": "code",
   "execution_count": 10,
   "id": "4dc214f1-321a-4fc8-9560-724c9cea73f0",
   "metadata": {
    "tags": []
   },
   "outputs": [
    {
     "data": {
      "text/plain": [
       "CountVectorizer(max_features=3000,\n",
       "                stop_words=['just', 'like', 'people', 'don', 'think', 'time',\n",
       "                            'know', 'gt', 'did', 'really', 'https', 'good',\n",
       "                            'way', 'make', 've', 'years', 'actually', 'thing',\n",
       "                            'say', 'right', 'doesn', 'lot', 'work', 'going',\n",
       "                            'sure', 'want', 'need', 'point', 'things', 'pretty', ...])"
      ]
     },
     "execution_count": 10,
     "metadata": {},
     "output_type": "execute_result"
    }
   ],
   "source": [
    "# instatiate and fit CountVectorize\n",
    "cvec= CountVectorizer(max_features = 3000, stop_words = new_stopwords)\n",
    "cvec.fit(X_train)"
   ]
  },
  {
   "cell_type": "code",
   "execution_count": 11,
   "id": "a12386a8-6ba8-43a2-a16a-ddea44784d0d",
   "metadata": {},
   "outputs": [],
   "source": [
    "# transform the corpus\n",
    "X_train_cvec = cvec.transform(X_train)\n",
    "X_test_cvec = cvec.transform(X_test)"
   ]
  },
  {
   "cell_type": "code",
   "execution_count": 12,
   "id": "5d88f819-c80c-45f1-aa27-ac407f7450e3",
   "metadata": {},
   "outputs": [
    {
     "data": {
      "text/plain": [
       "(86390, 3000)"
      ]
     },
     "execution_count": 12,
     "metadata": {},
     "output_type": "execute_result"
    }
   ],
   "source": [
    "X_train_cvec.shape"
   ]
  },
  {
   "cell_type": "code",
   "execution_count": 13,
   "id": "3bf1bdf9-0f15-4fb2-82e9-d765ca1ea326",
   "metadata": {},
   "outputs": [
    {
     "data": {
      "text/plain": [
       "['ability',\n",
       " 'able',\n",
       " 'about',\n",
       " 'above',\n",
       " 'abs',\n",
       " 'absolute',\n",
       " 'absolutely',\n",
       " 'absorb',\n",
       " 'absorbed',\n",
       " 'abstract',\n",
       " 'abuse',\n",
       " 'ac',\n",
       " 'academic',\n",
       " 'accelerate',\n",
       " 'accelerating',\n",
       " 'acceleration',\n",
       " 'accept',\n",
       " 'accepted',\n",
       " 'access',\n",
       " 'accident']"
      ]
     },
     "execution_count": 13,
     "metadata": {},
     "output_type": "execute_result"
    }
   ],
   "source": [
    "cvec.get_feature_names()[50:70]"
   ]
  },
  {
   "cell_type": "code",
   "execution_count": 14,
   "id": "d62d141e-40f9-4ca7-a9b5-99ecf9e0029a",
   "metadata": {},
   "outputs": [
    {
     "data": {
      "text/plain": [
       "LogisticRegression(max_iter=10000)"
      ]
     },
     "execution_count": 14,
     "metadata": {},
     "output_type": "execute_result"
    }
   ],
   "source": [
    "# model a logistic regression model\n",
    "\n",
    "logreg = LogisticRegression(max_iter=10_000)\n",
    "logreg.fit(X_train_cvec, y_train)\n"
   ]
  },
  {
   "cell_type": "code",
   "execution_count": 15,
   "id": "1e5595c4-6605-42c8-b6f1-63de2b42f0bf",
   "metadata": {},
   "outputs": [
    {
     "data": {
      "text/plain": [
       "0.8500191306843394"
      ]
     },
     "execution_count": 15,
     "metadata": {},
     "output_type": "execute_result"
    }
   ],
   "source": [
    "cross_val_score(logreg, X_test_cvec, y_test, cv = 5 ).mean()"
   ]
  },
  {
   "cell_type": "code",
   "execution_count": 16,
   "id": "d66916ee-4f18-48e9-97ec-9ad77e1a76e2",
   "metadata": {},
   "outputs": [
    {
     "data": {
      "text/plain": [
       "(0.8788748697765945, 0.8639788866895857)"
      ]
     },
     "execution_count": 16,
     "metadata": {},
     "output_type": "execute_result"
    }
   ],
   "source": [
    "logreg.score(X_train_cvec, y_train), logreg.score(X_test_cvec, y_test)"
   ]
  },
  {
   "cell_type": "markdown",
   "id": "16f912f8-38d7-4028-9e6d-891758a9c28f",
   "metadata": {},
   "source": [
    "Model is slightly overfit."
   ]
  },
  {
   "cell_type": "code",
   "execution_count": 17,
   "id": "198e97de-a6f1-45d2-aa95-847e2a0b3a6c",
   "metadata": {},
   "outputs": [],
   "source": [
    "# save model with cvec max_features = 3000 , new_stopwords and logreg\n",
    "#joblib.dump(logreg, filename = './models/cvec_mf3000_stpwords_logreg.sav' )"
   ]
  },
  {
   "cell_type": "code",
   "execution_count": 18,
   "id": "bffbfe2f-400d-4e61-9d23-7dc66ad2b12b",
   "metadata": {},
   "outputs": [
    {
     "data": {
      "image/png": "[encoded data removed]",
      "text/plain": [
       "<Figure size 432x288 with 2 Axes>"
      ]
     },
     "metadata": {
      "needs_background": "light"
     },
     "output_type": "display_data"
    }
   ],
   "source": [
    "plot_confusion_matrix(logreg, X_test_cvec, y_test, cmap = 'Blues', values_format = 'd');"
   ]
  },
  {
   "cell_type": "code",
   "execution_count": 34,
   "id": "9f868421-a035-4ee9-afe6-77257af1a834",
   "metadata": {},
   "outputs": [
    {
     "data": {
      "text/plain": [
       "0.8728205461216273"
      ]
     },
     "execution_count": 34,
     "metadata": {},
     "output_type": "execute_result"
    }
   ],
   "source": [
    "preds = logreg.predict(X_test_cvec)\n",
    "tn, fp, fn, tp = confusion_matrix(y_test, preds).ravel()\n",
    "f1_score_lr = (2 * tp) / (2 * tp + fn + fp)\n",
    "f1_score_lr"
   ]
  },
  {
   "cell_type": "code",
   "execution_count": 20,
   "id": "ca4256a4-cd1a-4ce2-b5e9-569113e489ce",
   "metadata": {},
   "outputs": [
    {
     "name": "stdout",
     "output_type": "stream",
     "text": [
      "Specificity 0.8123712804488318\n"
     ]
    }
   ],
   "source": [
    "#Calculate specificity; proportion of actual negatives classified correctly\n",
    "spec = tn/ (tn + fp)\n",
    "print(f'Specificity {spec}')"
   ]
  },
  {
   "cell_type": "code",
   "execution_count": 21,
   "id": "f583fff0-b5b6-4b99-8cf2-f4021ce2e7e5",
   "metadata": {},
   "outputs": [
    {
     "name": "stdout",
     "output_type": "stream",
     "text": [
      "Sensitivity 0.9133596085892906\n"
     ]
    }
   ],
   "source": [
    "# calculate sensitivity; proportion of actual positives classified correctly\n",
    "sens = tp / (tp + fn)\n",
    "print(f'Sensitivity {sens}')"
   ]
  },
  {
   "cell_type": "code",
   "execution_count": 22,
   "id": "cb9b450b-d262-4c9a-a806-ec0459c05441",
   "metadata": {},
   "outputs": [
    {
     "name": "stdout",
     "output_type": "stream",
     "text": [
      "               precision    recall  f1-score   support\n",
      "\n",
      "   askscience       0.90      0.81      0.85     14081\n",
      "todayilearned       0.84      0.91      0.87     14716\n",
      "\n",
      "     accuracy                           0.86     28797\n",
      "    macro avg       0.87      0.86      0.86     28797\n",
      " weighted avg       0.87      0.86      0.86     28797\n",
      "\n"
     ]
    }
   ],
   "source": [
    "print(classification_report(y_test, preds))"
   ]
  },
  {
   "cell_type": "markdown",
   "id": "f6a0e752-3847-4737-a14a-4fcf28ec63e3",
   "metadata": {},
   "source": [
    "### create pipe for streamlit"
   ]
  },
  {
   "cell_type": "code",
   "execution_count": 23,
   "id": "656c47ca-0154-40c5-bb12-d668af6e1da0",
   "metadata": {},
   "outputs": [
    {
     "data": {
      "text/plain": [
       "(0.8788748697765945, 0.8639788866895857)"
      ]
     },
     "execution_count": 23,
     "metadata": {},
     "output_type": "execute_result"
    }
   ],
   "source": [
    "pipe = Pipeline([\n",
    "    ('cv', CountVectorizer(max_features = 3000, stop_words = new_stopwords)),\n",
    "    ('lr', LogisticRegression(max_iter=10_000))\n",
    "])\n",
    "\n",
    "pipe.fit(X_train, y_train)\n",
    "pipe.score(X_train, y_train), pipe.score(X_test, y_test)"
   ]
  },
  {
   "cell_type": "code",
   "execution_count": 24,
   "id": "8b5f589f-c4fb-46fe-ae7a-f5bc3b20799a",
   "metadata": {},
   "outputs": [],
   "source": [
    "with open('./models/subreddits_pipe.pkl', 'wb') as pickle_out:\n",
    "    pickle_out = pickle.dump(pipe, pickle_out)"
   ]
  },
  {
   "cell_type": "code",
   "execution_count": 41,
   "id": "ef757c2a-f070-410f-995a-12012ad87099",
   "metadata": {},
   "outputs": [
    {
     "name": "stdout",
     "output_type": "stream",
     "text": [
      "<class 'pandas.core.frame.DataFrame'>\n",
      "RangeIndex: 115187 entries, 0 to 115186\n",
      "Data columns (total 6 columns):\n",
      " #   Column           Non-Null Count   Dtype \n",
      "---  ------           --------------   ----- \n",
      " 0   subreddit        115187 non-null  object\n",
      " 1   body             115187 non-null  object\n",
      " 2   author           115187 non-null  object\n",
      " 3   created_utc      115187 non-null  int64 \n",
      " 4   body_length      115187 non-null  int64 \n",
      " 5   body_word_count  115187 non-null  int64 \n",
      "dtypes: int64(3), object(3)\n",
      "memory usage: 5.3+ MB\n"
     ]
    }
   ],
   "source": [
    "data.info()"
   ]
  },
  {
   "cell_type": "markdown",
   "id": "fe477dd6-be94-410a-b0d7-7bb57f0b495e",
   "metadata": {},
   "source": [
    "## Random Forest Classifier Modeling\n",
    "* best model with cvec default, stop words = 'english'\n",
    "* rfc max_depth - None, n_estimator: 500"
   ]
  },
  {
   "cell_type": "code",
   "execution_count": 25,
   "id": "b12cb043-6fca-4737-9be2-5e7c2bb52658",
   "metadata": {},
   "outputs": [],
   "source": [
    "# instatiate fit, transform CountVectorize\n",
    "cvec_rfc = CountVectorizer(stop_words = 'english')\n",
    "cvec_rfc.fit(X_train)\n",
    "X_train_cvec_rfc = cvec_rfc.transform(X_train)\n",
    "X_test_cvec_rfc = cvec_rfc.transform(X_test)"
   ]
  },
  {
   "cell_type": "code",
   "execution_count": 26,
   "id": "8f473157-669f-4f90-9c00-1f7d40b8354b",
   "metadata": {
    "tags": []
   },
   "outputs": [],
   "source": [
    "# Create a model with RandomForsetClassifier\n",
    "\n",
    "rfc = RandomForestClassifier()"
   ]
  },
  {
   "cell_type": "code",
   "execution_count": null,
   "id": "4ca2e0c9-3c57-4572-a412-ea205fa3f51c",
   "metadata": {},
   "outputs": [],
   "source": [
    "#Takes a long time to run\n",
    "# cross_val_score(rfc, X_train_cvec, y_train).mean()"
   ]
  },
  {
   "cell_type": "code",
   "execution_count": null,
   "id": "cb5b14cf-8c68-4978-9851-a8f149f96416",
   "metadata": {},
   "outputs": [],
   "source": [
    "#takes a long time to run\n",
    "# # %%time\n",
    "# cross_val_score(rfc, X_test_cvec, y_test).mean()"
   ]
  },
  {
   "cell_type": "code",
   "execution_count": null,
   "id": "b9b21a4b-694a-4b5c-b379-76428a095fbd",
   "metadata": {},
   "outputs": [],
   "source": [
    "# # GridSearchCV with random forest\n",
    "\n",
    "# rfc_params = {\n",
    "#     'n_estimators' : [500, 600], \n",
    "#     'max_depth'    : [None]\n",
    "    \n",
    "# }\n",
    "\n"
   ]
  },
  {
   "cell_type": "code",
   "execution_count": null,
   "id": "028a8249-57d5-4259-a2f3-14070cc090ae",
   "metadata": {},
   "outputs": [],
   "source": [
    "takes a long time to run.\n",
    "# %%time\n",
    "# gs = GridSearchCV(estimator = RandomForestClassifier(), param_grid = rfc_params, cv = 5, verbose = 1)\n",
    "# gs.fit(X_train_cvec, y_train)"
   ]
  },
  {
   "cell_type": "code",
   "execution_count": 26,
   "id": "0dcbac57-027f-4430-84ec-34ee1e28a4bd",
   "metadata": {},
   "outputs": [],
   "source": [
    "#load rfc model to evaluate the best rfc model\n",
    "rfc = joblib.load('./models/cvec_default_rfc_500.sav')"
   ]
  },
  {
   "cell_type": "code",
   "execution_count": 27,
   "id": "398a5b5a-38d8-4b5b-8732-adba0325ad61",
   "metadata": {},
   "outputs": [
    {
     "data": {
      "text/plain": [
       "{'max_depth': None, 'n_estimators': 500}"
      ]
     },
     "execution_count": 27,
     "metadata": {},
     "output_type": "execute_result"
    }
   ],
   "source": [
    "rfc.best_params_"
   ]
  },
  {
   "cell_type": "code",
   "execution_count": 28,
   "id": "47b06efa-f21a-4480-9482-d72ce2d7d9cc",
   "metadata": {},
   "outputs": [
    {
     "data": {
      "text/plain": [
       "0.8372033800208356"
      ]
     },
     "execution_count": 28,
     "metadata": {},
     "output_type": "execute_result"
    }
   ],
   "source": [
    "rfc.best_score_"
   ]
  },
  {
   "cell_type": "code",
   "execution_count": 29,
   "id": "236d117e-99dd-456d-9688-7fc16fc18418",
   "metadata": {},
   "outputs": [
    {
     "data": {
      "text/plain": [
       "(0.9979858779951383, 0.841129284300448)"
      ]
     },
     "execution_count": 29,
     "metadata": {},
     "output_type": "execute_result"
    }
   ],
   "source": [
    "rfc.score(X_train_cvec_rfc, y_train), rfc.score(X_test_cvec_rfc, y_test)"
   ]
  },
  {
   "cell_type": "markdown",
   "id": "97d622d2-8be0-45be-963a-42aadb7d6f72",
   "metadata": {},
   "source": [
    "Model is extremely overfit."
   ]
  },
  {
   "cell_type": "code",
   "execution_count": 30,
   "id": "9560985b-1b8e-45fe-be27-47e2d7767242",
   "metadata": {
    "tags": []
   },
   "outputs": [
    {
     "name": "stdout",
     "output_type": "stream",
     "text": [
      "               precision    recall  f1-score   support\n",
      "\n",
      "   askscience       0.86      0.81      0.83     14081\n",
      "todayilearned       0.83      0.87      0.85     14716\n",
      "\n",
      "     accuracy                           0.84     28797\n",
      "    macro avg       0.84      0.84      0.84     28797\n",
      " weighted avg       0.84      0.84      0.84     28797\n",
      "\n"
     ]
    }
   ],
   "source": [
    "# print classification report for best rfc model\n",
    "preds_rfc = rfc.predict(X_test_cvec_rfc)\n",
    "print(classification_report(y_test, preds_rfc))"
   ]
  },
  {
   "cell_type": "code",
   "execution_count": 31,
   "id": "985b2033-68f9-4e9a-b222-627c9219571f",
   "metadata": {},
   "outputs": [
    {
     "data": {
      "image/png": "[encoded data removed]",
      "text/plain": [
       "<Figure size 432x288 with 2 Axes>"
      ]
     },
     "metadata": {
      "needs_background": "light"
     },
     "output_type": "display_data"
    }
   ],
   "source": [
    "plot_confusion_matrix(rfc, X_test_cvec_rfc, y_test, cmap = 'Blues', values_format = 'd');"
   ]
  },
  {
   "cell_type": "code",
   "execution_count": 33,
   "id": "38028014-9338-449b-b783-e01279fafb2c",
   "metadata": {},
   "outputs": [
    {
     "data": {
      "text/plain": [
       "0.8483944726115916"
      ]
     },
     "execution_count": 33,
     "metadata": {},
     "output_type": "execute_result"
    }
   ],
   "source": [
    "tn, fp, fn, tp = confusion_matrix(y_test, preds_rfc).ravel()\n",
    "f1_score_rfc = (2 * tp) / (2 * tp + fn + fp)\n",
    "f1_score_rfc"
   ]
  },
  {
   "cell_type": "code",
   "execution_count": null,
   "id": "19aef6cc-2b69-4ee8-be68-4f8812eb261d",
   "metadata": {
    "tags": []
   },
   "outputs": [],
   "source": [
    "#write save model cvec:defult, rfc: max_depth None, n_estimators: 500\n",
    "#joblib.dump(gs, '/models/cvec_default_rfc_500.sav')"
   ]
  },
  {
   "cell_type": "markdown",
   "id": "7c10bcad-f276-4e28-aa28-821385c9a324",
   "metadata": {},
   "source": [
    "## Support Vector Machines Modeling\n",
    "* best model with cvec n_features 3000, stop words top 50\n",
    "*svm - c=1, degree 2, kernel rbf, gamma :scale"
   ]
  },
  {
   "cell_type": "code",
   "execution_count": null,
   "id": "ad550629-ca3e-424e-b7f6-b644abfd1e16",
   "metadata": {},
   "outputs": [],
   "source": [
    "# %%time\n",
    "# # Instatiate SVM\n",
    "# svc  = SVC(C = 1,\n",
    "#            degree = 2,\n",
    "#            kernel = 'rbf',\n",
    "#            gamma = 'scale'\n",
    "# )\n",
    "\n",
    "# # fit on training data\n",
    "# svc.fit(X_train_cvec, y_train)\n",
    "\n",
    "\n"
   ]
  },
  {
   "cell_type": "code",
   "execution_count": 35,
   "id": "c2a69af0-f4d7-410f-b81b-0c808b05bcb2",
   "metadata": {},
   "outputs": [],
   "source": [
    "# load best svm model to evaluate\n",
    "svm = joblib.load('./models/cvec_stopwords_3000_SVM_2.sav')"
   ]
  },
  {
   "cell_type": "code",
   "execution_count": 36,
   "id": "58173bd8-6cf2-4aaf-9fa4-07f497a67498",
   "metadata": {
    "tags": []
   },
   "outputs": [
    {
     "name": "stdout",
     "output_type": "stream",
     "text": [
      "Score training data:  0.8873364972797777\n",
      "Score testing data:  0.857485154703615\n"
     ]
    }
   ],
   "source": [
    "# evaluate model\n",
    "\n",
    "print('Score training data: ', svm.score(X_train_cvec, y_train))\n",
    "print('Score testing data: ', svm.score(X_test_cvec, y_test))"
   ]
  },
  {
   "cell_type": "markdown",
   "id": "89180145-0331-4500-b100-595ba9060aad",
   "metadata": {},
   "source": [
    "Model is slightly overfit."
   ]
  },
  {
   "cell_type": "code",
   "execution_count": 37,
   "id": "c93403b8-4802-4770-910e-9a5d032c6858",
   "metadata": {
    "tags": []
   },
   "outputs": [
    {
     "name": "stdout",
     "output_type": "stream",
     "text": [
      "               precision    recall  f1-score   support\n",
      "\n",
      "   askscience       0.89      0.81      0.85     14081\n",
      "todayilearned       0.83      0.90      0.87     14716\n",
      "\n",
      "     accuracy                           0.86     28797\n",
      "    macro avg       0.86      0.86      0.86     28797\n",
      " weighted avg       0.86      0.86      0.86     28797\n",
      "\n"
     ]
    }
   ],
   "source": [
    "# classification report SVM\n",
    "preds_svm = svm.predict(X_test_cvec)\n",
    "print(classification_report(y_test, preds_svm))"
   ]
  },
  {
   "cell_type": "code",
   "execution_count": 38,
   "id": "d31dfb13-422f-4412-b972-2cb3fed8ebbd",
   "metadata": {},
   "outputs": [
    {
     "data": {
      "image/png": "[encoded data removed]",
      "text/plain": [
       "<Figure size 432x288 with 2 Axes>"
      ]
     },
     "metadata": {
      "needs_background": "light"
     },
     "output_type": "display_data"
    }
   ],
   "source": [
    "plot_confusion_matrix(svm, X_test_cvec, y_test, cmap = 'Blues', values_format = 'd');"
   ]
  },
  {
   "cell_type": "code",
   "execution_count": 39,
   "id": "db901940-bfc3-406b-aea4-4d42821d2998",
   "metadata": {},
   "outputs": [
    {
     "data": {
      "text/plain": [
       "0.8659174072138003"
      ]
     },
     "execution_count": 39,
     "metadata": {},
     "output_type": "execute_result"
    }
   ],
   "source": [
    "tn, fp, fn, tp = confusion_matrix(y_test, preds_svm).ravel()\n",
    "f1_score_svm = (2 * tp) / (2 * tp + fn + fp)\n",
    "f1_score_svm"
   ]
  },
  {
   "cell_type": "code",
   "execution_count": 40,
   "id": "6679e98b-3afd-4f14-bcd2-337f9cbe63a0",
   "metadata": {
    "tags": []
   },
   "outputs": [],
   "source": [
    "#write save model cvec:defult,new stop words svm,degree = 2\n",
    "#joblib.dump(svc, './models/cvec_stopwords_3000_SVM_2.sav')"
   ]
  },
  {
   "cell_type": "code",
   "execution_count": null,
   "id": "0d61d856-4862-47eb-9898-0771a7f67e74",
   "metadata": {},
   "outputs": [],
   "source": []
  },
  {
   "cell_type": "code",
   "execution_count": null,
   "id": "461cc879-fb01-45ac-89e0-61e66c272fd4",
   "metadata": {},
   "outputs": [],
   "source": [
    "\n",
    "\n"
   ]
  },
  {
   "cell_type": "code",
   "execution_count": null,
   "id": "ef426fae-d022-425b-80c3-49671d9aed84",
   "metadata": {},
   "outputs": [],
   "source": []
  },
  {
   "cell_type": "code",
   "execution_count": null,
   "id": "81c798bb-fbd9-4324-bf4f-e8602275f833",
   "metadata": {},
   "outputs": [],
   "source": []
  }
 ],
 "metadata": {
  "kernelspec": {
   "display_name": "Python 3",
   "language": "python",
   "name": "python3"
  },
  "language_info": {
   "codemirror_mode": {
    "name": "ipython",
    "version": 3
   },
   "file_extension": ".py",
   "mimetype": "text/x-python",
   "name": "python",
   "nbconvert_exporter": "python",
   "pygments_lexer": "ipython3",
   "version": "3.8.8"
  }
 },
 "nbformat": 4,
 "nbformat_minor": 5
}
